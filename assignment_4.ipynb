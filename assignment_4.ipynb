{
 "cells": [
  {
   "cell_type": "code",
   "execution_count": 1,
   "metadata": {},
   "outputs": [
    {
     "name": "stdout",
     "output_type": "stream",
     "text": [
      "first_name Kundan\n",
      "last_name Acharya\n",
      "age 28\n",
      "city Mithi\n",
      "\n",
      "Add Qualification\n",
      "first_name Kundan\n",
      "last_name Acharya\n",
      "age 28\n",
      "city Mithi\n",
      "qualification inter\n",
      "\n",
      "Update Qualification to max\n",
      "first_name Kundan\n",
      "last_name Acharya\n",
      "age 28\n",
      "city Mithi\n",
      "qualification MBA\n",
      "\n",
      " Deleting Qualification\n",
      "first_name Kundan\n",
      "last_name Acharya\n",
      "age 28\n",
      "city Mithi\n"
     ]
    }
   ],
   "source": [
    "#Q1\n",
    "\n",
    "info = {\n",
    "        \n",
    "    \"first_name\" :  \"Kundan\",\n",
    "    \"last_name\"  : \"Acharya\",\n",
    "    \"age\"        :  28,\n",
    "    \"city\"       : \"Mithi\"\n",
    "}   \n",
    "\n",
    "for bio in info:\n",
    "    print(bio , info[bio])\n",
    "\n",
    "print(\"\\n\"\"Add Qualification\")\n",
    "info[\"qualification\"] = \"inter\"\n",
    "\n",
    "for bio in info:\n",
    "    print(bio , info[bio])\n",
    "    \n",
    "print(\"\\n\"\"Update Qualification to max\")    \n",
    "info.update(qualification = 'MBA')\n",
    "\n",
    "for bio in info:\n",
    "    print(bio,info[bio])\n",
    "\n",
    "print(\"\\n\"\" Deleting Qualification\")       \n",
    "del info[\"qualification\"] \n",
    "for bio in info:\n",
    "    print(bio , info[bio])"
   ]
  },
  {
   "cell_type": "code",
   "execution_count": 2,
   "metadata": {},
   "outputs": [
    {
     "name": "stdout",
     "output_type": "stream",
     "text": [
      "\n",
      "karachi\n",
      "\n",
      "country : Pakistan\n",
      "population : 15741000\n",
      "fact : Its near sea\n",
      "\n",
      "dubai\n",
      "\n",
      "country : UAE\n",
      "population : 3000000\n",
      "fact : Its near sea\n",
      "\n",
      "mumbai\n",
      "\n",
      "country : India\n",
      "population : 18000000\n",
      "fact : Its near sea\n"
     ]
    }
   ],
   "source": [
    "#Q2\n",
    "\n",
    "cities = {\n",
    "    'karachi': {\n",
    "        \"country\": \"Pakistan\",\n",
    "        \"population\": 15741000,\n",
    "        \"fact\": \"Its near sea\"\n",
    "    },\n",
    "    'dubai': {\n",
    "        \"country\": \"UAE\",\n",
    "        \"population\": 3000000,\n",
    "        \"fact\": \"Its near sea\"\n",
    "    },\n",
    "    'mumbai': {\n",
    "        \"country\": \"India\",\n",
    "        \"population\": 18000000,\n",
    "        \"fact\": \"Its near sea\"\n",
    "    }\n",
    "}\n",
    "for city_1, city_info in cities.items():\n",
    "    print(\"\\n\"+city_1+\"\\n\")\n",
    "    for city in city_info:\n",
    "        print(city+\" : \"+str(city_info[city]))\n"
   ]
  },
  {
   "cell_type": "code",
   "execution_count": 4,
   "metadata": {},
   "outputs": [
    {
     "name": "stdout",
     "output_type": "stream",
     "text": [
      "Enter Your Age :5\n",
      "You Have To Pay $10 !\n",
      "Are you want to take ticket yes or no: no\n"
     ]
    }
   ],
   "source": [
    "#Q3\n",
    "\n",
    "rep = 'yes'\n",
    "while rep != 'no':\n",
    "    age = int(input(\"Enter Your Age :\"))\n",
    "    if age < 3:\n",
    "        print(\"Your Ticket is Free\")\n",
    "    elif age <= 12:\n",
    "        print(\"You Have To Pay $10 !\")\n",
    "    elif age > 12:\n",
    "        print(\"You Have To Pay $15\")\n",
    "    else:\n",
    "        print(\"Enter Your correct Age !\")\n",
    "    rep = input(\"Are you want to take ticket yes or no: \")"
   ]
  },
  {
   "cell_type": "code",
   "execution_count": 1,
   "metadata": {},
   "outputs": [
    {
     "name": "stdout",
     "output_type": "stream",
     "text": [
      "One of my favorite books is Alice in Wonderland.\n"
     ]
    }
   ],
   "source": [
    "#Q4\n",
    "\n",
    "def favorite_book(title):\n",
    "    print(title + \" is Alice in Wonderland.\")\n",
    "\n",
    "\n",
    "favorite_book('One of my favorite books')"
   ]
  },
  {
   "cell_type": "code",
   "execution_count": 3,
   "metadata": {},
   "outputs": [
    {
     "name": "stdout",
     "output_type": "stream",
     "text": [
      "================HINT================\n",
      "try a number between 20 and 30\n",
      "enter your guess: 22\n",
      "your guess is right\n"
     ]
    }
   ],
   "source": [
    "#Q5\n",
    "\n",
    "import random\n",
    "x = random.randint(1, 30)  # a is the hidden number\n",
    "print(\"================HINT================\")\n",
    "if x >= 1 and x < 10:\n",
    "    print(\"try a number between 1 and 10\")\n",
    "elif x >= 10 and x < 20:\n",
    "    print(\"try a number between 10 and 20\")\n",
    "elif x >= 20 and x < 30:\n",
    "    print(\"try a number between 20 and 30\")\n",
    "for y in range(0, 3):\n",
    "    user = int(input(\"enter your guess: \"))\n",
    "    if user < 1 or user > 30:\n",
    "        print(\"choose a number between 1 and 30\")\n",
    "    else:\n",
    "        if user == x:\n",
    "            print(\"your guess is right\")\n",
    "            break\n",
    "        else:\n",
    "            print(\"your guess is wrong\")\n",
    "            print(\"============better luck next time :-)============\")"
   ]
  },
  {
   "cell_type": "code",
   "execution_count": null,
   "metadata": {},
   "outputs": [],
   "source": []
  }
 ],
 "metadata": {
  "kernelspec": {
   "display_name": "Python 3",
   "language": "python",
   "name": "python3"
  },
  "language_info": {
   "codemirror_mode": {
    "name": "ipython",
    "version": 3
   },
   "file_extension": ".py",
   "mimetype": "text/x-python",
   "name": "python",
   "nbconvert_exporter": "python",
   "pygments_lexer": "ipython3",
   "version": "3.7.4"
  }
 },
 "nbformat": 4,
 "nbformat_minor": 2
}
