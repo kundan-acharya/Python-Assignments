{
 "cells": [
  {
   "cell_type": "code",
   "execution_count": 1,
   "metadata": {},
   "outputs": [
    {
     "name": "stdout",
     "output_type": "stream",
     "text": [
      "Input a number to compute the factiorial : 4\n",
      "24\n"
     ]
    }
   ],
   "source": [
    "#Q1\n",
    "\n",
    "def factorial(x):\n",
    "    if x == 0:\n",
    "        return 1\n",
    "    else:\n",
    "        return x * factorial(x-1)\n",
    "\n",
    "\n",
    "x = int(input(\"Input a number to compute the factiorial : \"))\n",
    "print(factorial(x))\n"
   ]
  },
  {
   "cell_type": "code",
   "execution_count": 2,
   "metadata": {},
   "outputs": [
    {
     "name": "stdout",
     "output_type": "stream",
     "text": [
      "Original String :  MY name Is KUNDAN\n",
      "No. of Upper case characters :  9\n",
      "No. of Lower case Characters :  5\n"
     ]
    }
   ],
   "source": [
    "#Q2\n",
    "\n",
    "def upnlower(s):\n",
    "    d = {\"UPPER_CASE\": 0, \"LOWER_CASE\": 0}\n",
    "    for c in s:\n",
    "        if c.isupper():\n",
    "            d[\"UPPER_CASE\"] += 1\n",
    "        elif c.islower():\n",
    "            d[\"LOWER_CASE\"] += 1\n",
    "        else:\n",
    "            pass\n",
    "    print(\"Original String : \", s)\n",
    "    print(\"No. of Upper case characters : \", d[\"UPPER_CASE\"])\n",
    "    print(\"No. of Lower case Characters : \", d[\"LOWER_CASE\"])\n",
    "\n",
    "\n",
    "upnlower('MY name Is KUNDAN')\n"
   ]
  },
  {
   "cell_type": "code",
   "execution_count": 6,
   "metadata": {},
   "outputs": [
    {
     "name": "stdout",
     "output_type": "stream",
     "text": [
      "[10, 2, 4, 6, 8]\n"
     ]
    }
   ],
   "source": [
    "#Q3\n",
    "\n",
    "def even_num(k):\n",
    "    num = []\n",
    "    for n in k:\n",
    "        if n % 2 == 0:\n",
    "            num.append(n)\n",
    "    return num\n",
    "print(even_num([10, 2, 3, 4, 5, 6, 7, 8, 9]))"
   ]
  },
  {
   "cell_type": "code",
   "execution_count": 16,
   "metadata": {},
   "outputs": [
    {
     "name": "stdout",
     "output_type": "stream",
     "text": [
      "True\n"
     ]
    }
   ],
   "source": [
    "#Q4\n",
    "\n",
    "def palindrome(strng):\n",
    "  \n",
    "    new_strng = ''.join([char for char in strng if char != ' '])\n",
    "    if new_strng == new_strng[::-1]:\n",
    "        return True \n",
    "    else:\n",
    "        return False \n",
    "\n",
    "print(palindrome('kk'))\n"
   ]
  },
  {
   "cell_type": "code",
   "execution_count": 29,
   "metadata": {},
   "outputs": [
    {
     "name": "stdout",
     "output_type": "stream",
     "text": [
      "False\n"
     ]
    }
   ],
   "source": [
    "#Q5\n",
    "\n",
    "def test_prime(n):\n",
    "\n",
    "    if (n==1):\n",
    "        return False    \n",
    "    elif (n==2):\n",
    "        return True;\n",
    "    else:\n",
    "        for x in range(2,n):\n",
    "            if(n % x==0):\n",
    "                return False\n",
    "            return True\n",
    "print(test_prime(6))"
   ]
  },
  {
   "cell_type": "code",
   "execution_count": null,
   "metadata": {},
   "outputs": [
    {
     "name": "stdout",
     "output_type": "stream",
     "text": [
      "Enter your budget : 55\n",
      "1.ADD\n",
      "2.EXIT\n",
      "Enter your choice : 1\n",
      "Enter product name : sugar\n",
      "Enter quantity : 50\n",
      "Enter price of the product : 54\n",
      "\n",
      "amount left 1.0\n"
     ]
    }
   ],
   "source": [
    "#Q6\n",
    "\n",
    "while True:\n",
    "    try:\n",
    "        bg = float(input(\"Enter your budget : \"))\n",
    "\n",
    "        s = bg\n",
    "    except ValueError:\n",
    "        print(\"PRINT NUMBER AS A AMOUNT\")\n",
    "        continue\n",
    "    else:\n",
    "        break\n",
    "\n",
    "\n",
    "a = {\"name\": [], \"quant\": [], \"price\": []}\n",
    "b = list(a.values())\n",
    "na = b[0]\n",
    "qu = b[1]\n",
    "pr = b[2]\n",
    "\n",
    "while True:\n",
    "    try:\n",
    "        ch = int(input(\"1.ADD\\n2.EXIT\\nEnter your choice : \"))\n",
    "    except ValueError:\n",
    "        print(\"\\nERROR: Choose only digits from the given option\")\n",
    "        continue\n",
    "    else:\n",
    "\n",
    "        if ch == 1 and s > 0:\n",
    "            pn = input(\"Enter product name : \")\n",
    "            q = input(\"Enter quantity : \")\n",
    "            p = float(input(\"Enter price of the product : \"))\n",
    "            if p > s:\n",
    "                print(\"\\nPRODUCT PRIZE IS OUT OF YOUR BUDGET\")\n",
    "                continue\n",
    "\n",
    "            else:\n",
    "\n",
    "                if pn in na:\n",
    "                    ind = na.index(pn)\n",
    "                    qu.remove(qu[ind])\n",
    "                    pr.remove(pr[ind])\n",
    "                    qu.insert(ind, q)\n",
    "                    pr.insert(ind, p)\n",
    "                    s = bg-sum(pr)\n",
    "                    print(\"\\namount left\", s)\n",
    "                else:\n",
    "                    na.append(pn)\n",
    "                    qu.append(q)\n",
    "                    pr.append(p)\n",
    "                    s = bg-sum(pr)\n",
    "\n",
    "                    print(\"\\namount left\", s)\n",
    "\n",
    "        elif s <= 0:\n",
    "            print(\"\\nNO BUDGET\")\n",
    "        else:\n",
    "            break\n",
    "\n",
    "\n",
    "print(\"\\nAmount left : Rs.\", s)\n",
    "\n",
    "\n",
    "if s in pr:\n",
    "    print(\"\\nAmount left can buy you a\", na[pr.index(s)])\n",
    "print(\"\\n\\n\\nGROCERY LIST\")\n",
    "for i in range(len(na)):\n",
    "    print(na[i], qu[i], pr[i])"
   ]
  },
  {
   "cell_type": "code",
   "execution_count": null,
   "metadata": {},
   "outputs": [],
   "source": []
  }
 ],
 "metadata": {
  "kernelspec": {
   "display_name": "Python 3",
   "language": "python",
   "name": "python3"
  },
  "language_info": {
   "codemirror_mode": {
    "name": "ipython",
    "version": 3
   },
   "file_extension": ".py",
   "mimetype": "text/x-python",
   "name": "python",
   "nbconvert_exporter": "python",
   "pygments_lexer": "ipython3",
   "version": "3.7.4"
  }
 },
 "nbformat": 4,
 "nbformat_minor": 2
}
